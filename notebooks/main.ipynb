{
 "cells": [
  {
   "cell_type": "code",
   "execution_count": 1,
   "id": "210d4f70",
   "metadata": {},
   "outputs": [],
   "source": [
    "import pandas as pd\n",
    "import tensorflow as tf\n",
    "from tensorflow.keras.models import Sequential\n",
    "from tensorflow.keras.layers import Dense, LSTM, Bidirectional, Embedding, Dropout, Input\n",
    "import warnings\n",
    "import spacy\n",
    "import numpy as np\n",
    "import re\n",
    "warnings.filterwarnings('ignore')\n",
    "from sklearn.model_selection import train_test_split\n",
    "from transformers import pipeline\n",
    "import joblib\n",
    "tf.keras.utils.set_random_seed(42)\n",
    "from imblearn.under_sampling import RandomUnderSampler"
   ]
  },
  {
   "cell_type": "code",
   "execution_count": 9,
   "id": "6a11c2f1",
   "metadata": {},
   "outputs": [
    {
     "data": {
      "application/vnd.microsoft.datawrangler.viewer.v0+json": {
       "columns": [
        {
         "name": "index",
         "rawType": "int64",
         "type": "integer"
        },
        {
         "name": "date_received",
         "rawType": "object",
         "type": "string"
        },
        {
         "name": "product",
         "rawType": "object",
         "type": "string"
        },
        {
         "name": "sub_product",
         "rawType": "object",
         "type": "unknown"
        },
        {
         "name": "issue",
         "rawType": "object",
         "type": "string"
        },
        {
         "name": "sub_issue",
         "rawType": "object",
         "type": "unknown"
        },
        {
         "name": "consumer_complaint_narrative",
         "rawType": "object",
         "type": "unknown"
        },
        {
         "name": "company_public_response",
         "rawType": "object",
         "type": "unknown"
        },
        {
         "name": "company",
         "rawType": "object",
         "type": "string"
        },
        {
         "name": "state",
         "rawType": "object",
         "type": "string"
        },
        {
         "name": "zipcode",
         "rawType": "object",
         "type": "string"
        },
        {
         "name": "tags",
         "rawType": "object",
         "type": "unknown"
        },
        {
         "name": "consumer_consent_provided",
         "rawType": "object",
         "type": "unknown"
        },
        {
         "name": "submitted_via",
         "rawType": "object",
         "type": "string"
        },
        {
         "name": "date_sent_to_company",
         "rawType": "object",
         "type": "string"
        },
        {
         "name": "company_response_to_consumer",
         "rawType": "object",
         "type": "string"
        },
        {
         "name": "timely_response",
         "rawType": "int64",
         "type": "integer"
        },
        {
         "name": "consumer_disputed",
         "rawType": "int64",
         "type": "integer"
        },
        {
         "name": "complaint_id",
         "rawType": "int64",
         "type": "integer"
        }
       ],
       "ref": "c5875480-21a3-4cf2-8d9f-8df8136cd920",
       "rows": [
        [
         "317627",
         "11/06/2015",
         "Bank account or service",
         "Checking account",
         "Account opening, closing, or management",
         null,
         "Citizens Bank XXXX XXXX, RI sent me, by US mail, an offer to receive {$200.00} by opening an account and meeting stated requirements. The requirements were : open the account by XXXX XXXX, 2015, make a deposit each month XXXX of which would be a minimum of {$500.00} and the {$200.00} would show on the account after XXXX XXXX. I went to the Citizens Bank at XXXX XXXX XXXX, XXXX, NH on XXXX XXXX, 2015, discussed the offer with Branch Manager XXXX XXXX, opened the account, fulfilled all requirements and now have not received the money. I have talked with Supervisor XXXX XXXX and Bank Officer XXXX XXXX, Sr Advocate. She said she would see to it. The money is not in my account and she has not called me back. I have all the paperwork and pertinent notes and want Citizens to pay as promised NOW. \n",
         null,
         "Citizens Financial Group, Inc.",
         "NH",
         "030XX",
         "Older American",
         "Consent provided",
         "Web",
         "11/10/2015",
         "Closed with explanation",
         "1",
         "0",
         "1644032"
        ],
        [
         "399121",
         "12/05/2011",
         "Credit card",
         null,
         "Closing/Cancelling account",
         null,
         null,
         null,
         "Amex",
         "NY",
         "10580",
         null,
         null,
         "Web",
         "12/06/2011",
         "Closed with relief",
         "1",
         "0",
         "2801"
        ],
        [
         "505916",
         "02/02/2016",
         "Debt collection",
         "Credit card",
         "Taking/threatening an illegal action",
         "Seized/Attempted to seize property",
         "I have had my wages garnished starting on XX/XX/2015 for the debt in question. I have almost paid off the entire amount, as of a few days ago I checked the court docket site and the company is trying to do a bank attachment for the full amount! I have almost paid it off through the wage garnishment, I have proof via my pay stubs. Also they have filed a lien on my house as well. Seems as though they are trying to triple collect this debt. \n",
         null,
         "Weltman, Weinberg & Reis",
         "OH",
         "441XX",
         null,
         "Consent provided",
         "Web",
         "02/02/2016",
         "Closed with explanation",
         "1",
         "0",
         "1769306"
        ],
        [
         "538320",
         "04/11/2016",
         "Credit reporting",
         null,
         "Incorrect information on credit report",
         "Information is not mine",
         null,
         "Company has responded to the consumer and the CFPB and chooses not to provide a public response",
         "TransUnion Intermediate Holdings, Inc.",
         "CA",
         "90036",
         null,
         "Consent not provided",
         "Web",
         "04/11/2016",
         "Closed with explanation",
         "1",
         "1",
         "1872829"
        ],
        [
         "390186",
         "08/27/2013",
         "Consumer Loan",
         "Vehicle loan",
         "Managing the loan or lease",
         null,
         null,
         null,
         "Credit Acceptance Corporation",
         "CA",
         "92553",
         null,
         null,
         "Phone",
         "08/28/2013",
         "Closed with explanation",
         "1",
         "0",
         "508109"
        ]
       ],
       "shape": {
        "columns": 18,
        "rows": 5
       }
      },
      "text/html": [
       "<div>\n",
       "<style scoped>\n",
       "    .dataframe tbody tr th:only-of-type {\n",
       "        vertical-align: middle;\n",
       "    }\n",
       "\n",
       "    .dataframe tbody tr th {\n",
       "        vertical-align: top;\n",
       "    }\n",
       "\n",
       "    .dataframe thead th {\n",
       "        text-align: right;\n",
       "    }\n",
       "</style>\n",
       "<table border=\"1\" class=\"dataframe\">\n",
       "  <thead>\n",
       "    <tr style=\"text-align: right;\">\n",
       "      <th></th>\n",
       "      <th>date_received</th>\n",
       "      <th>product</th>\n",
       "      <th>sub_product</th>\n",
       "      <th>issue</th>\n",
       "      <th>sub_issue</th>\n",
       "      <th>consumer_complaint_narrative</th>\n",
       "      <th>company_public_response</th>\n",
       "      <th>company</th>\n",
       "      <th>state</th>\n",
       "      <th>zipcode</th>\n",
       "      <th>tags</th>\n",
       "      <th>consumer_consent_provided</th>\n",
       "      <th>submitted_via</th>\n",
       "      <th>date_sent_to_company</th>\n",
       "      <th>company_response_to_consumer</th>\n",
       "      <th>timely_response</th>\n",
       "      <th>consumer_disputed</th>\n",
       "      <th>complaint_id</th>\n",
       "    </tr>\n",
       "  </thead>\n",
       "  <tbody>\n",
       "    <tr>\n",
       "      <th>317627</th>\n",
       "      <td>11/06/2015</td>\n",
       "      <td>Bank account or service</td>\n",
       "      <td>Checking account</td>\n",
       "      <td>Account opening, closing, or management</td>\n",
       "      <td>NaN</td>\n",
       "      <td>Citizens Bank XXXX XXXX, RI sent me, by US mai...</td>\n",
       "      <td>NaN</td>\n",
       "      <td>Citizens Financial Group, Inc.</td>\n",
       "      <td>NH</td>\n",
       "      <td>030XX</td>\n",
       "      <td>Older American</td>\n",
       "      <td>Consent provided</td>\n",
       "      <td>Web</td>\n",
       "      <td>11/10/2015</td>\n",
       "      <td>Closed with explanation</td>\n",
       "      <td>1</td>\n",
       "      <td>0</td>\n",
       "      <td>1644032</td>\n",
       "    </tr>\n",
       "    <tr>\n",
       "      <th>399121</th>\n",
       "      <td>12/05/2011</td>\n",
       "      <td>Credit card</td>\n",
       "      <td>NaN</td>\n",
       "      <td>Closing/Cancelling account</td>\n",
       "      <td>NaN</td>\n",
       "      <td>NaN</td>\n",
       "      <td>NaN</td>\n",
       "      <td>Amex</td>\n",
       "      <td>NY</td>\n",
       "      <td>10580</td>\n",
       "      <td>NaN</td>\n",
       "      <td>NaN</td>\n",
       "      <td>Web</td>\n",
       "      <td>12/06/2011</td>\n",
       "      <td>Closed with relief</td>\n",
       "      <td>1</td>\n",
       "      <td>0</td>\n",
       "      <td>2801</td>\n",
       "    </tr>\n",
       "    <tr>\n",
       "      <th>505916</th>\n",
       "      <td>02/02/2016</td>\n",
       "      <td>Debt collection</td>\n",
       "      <td>Credit card</td>\n",
       "      <td>Taking/threatening an illegal action</td>\n",
       "      <td>Seized/Attempted to seize property</td>\n",
       "      <td>I have had my wages garnished starting on XX/X...</td>\n",
       "      <td>NaN</td>\n",
       "      <td>Weltman, Weinberg &amp; Reis</td>\n",
       "      <td>OH</td>\n",
       "      <td>441XX</td>\n",
       "      <td>NaN</td>\n",
       "      <td>Consent provided</td>\n",
       "      <td>Web</td>\n",
       "      <td>02/02/2016</td>\n",
       "      <td>Closed with explanation</td>\n",
       "      <td>1</td>\n",
       "      <td>0</td>\n",
       "      <td>1769306</td>\n",
       "    </tr>\n",
       "    <tr>\n",
       "      <th>538320</th>\n",
       "      <td>04/11/2016</td>\n",
       "      <td>Credit reporting</td>\n",
       "      <td>NaN</td>\n",
       "      <td>Incorrect information on credit report</td>\n",
       "      <td>Information is not mine</td>\n",
       "      <td>NaN</td>\n",
       "      <td>Company has responded to the consumer and the ...</td>\n",
       "      <td>TransUnion Intermediate Holdings, Inc.</td>\n",
       "      <td>CA</td>\n",
       "      <td>90036</td>\n",
       "      <td>NaN</td>\n",
       "      <td>Consent not provided</td>\n",
       "      <td>Web</td>\n",
       "      <td>04/11/2016</td>\n",
       "      <td>Closed with explanation</td>\n",
       "      <td>1</td>\n",
       "      <td>1</td>\n",
       "      <td>1872829</td>\n",
       "    </tr>\n",
       "    <tr>\n",
       "      <th>390186</th>\n",
       "      <td>08/27/2013</td>\n",
       "      <td>Consumer Loan</td>\n",
       "      <td>Vehicle loan</td>\n",
       "      <td>Managing the loan or lease</td>\n",
       "      <td>NaN</td>\n",
       "      <td>NaN</td>\n",
       "      <td>NaN</td>\n",
       "      <td>Credit Acceptance Corporation</td>\n",
       "      <td>CA</td>\n",
       "      <td>92553</td>\n",
       "      <td>NaN</td>\n",
       "      <td>NaN</td>\n",
       "      <td>Phone</td>\n",
       "      <td>08/28/2013</td>\n",
       "      <td>Closed with explanation</td>\n",
       "      <td>1</td>\n",
       "      <td>0</td>\n",
       "      <td>508109</td>\n",
       "    </tr>\n",
       "  </tbody>\n",
       "</table>\n",
       "</div>"
      ],
      "text/plain": [
       "       date_received                  product       sub_product  \\\n",
       "317627    11/06/2015  Bank account or service  Checking account   \n",
       "399121    12/05/2011              Credit card               NaN   \n",
       "505916    02/02/2016          Debt collection       Credit card   \n",
       "538320    04/11/2016         Credit reporting               NaN   \n",
       "390186    08/27/2013            Consumer Loan      Vehicle loan   \n",
       "\n",
       "                                          issue  \\\n",
       "317627  Account opening, closing, or management   \n",
       "399121               Closing/Cancelling account   \n",
       "505916     Taking/threatening an illegal action   \n",
       "538320   Incorrect information on credit report   \n",
       "390186               Managing the loan or lease   \n",
       "\n",
       "                                 sub_issue  \\\n",
       "317627                                 NaN   \n",
       "399121                                 NaN   \n",
       "505916  Seized/Attempted to seize property   \n",
       "538320             Information is not mine   \n",
       "390186                                 NaN   \n",
       "\n",
       "                             consumer_complaint_narrative  \\\n",
       "317627  Citizens Bank XXXX XXXX, RI sent me, by US mai...   \n",
       "399121                                                NaN   \n",
       "505916  I have had my wages garnished starting on XX/X...   \n",
       "538320                                                NaN   \n",
       "390186                                                NaN   \n",
       "\n",
       "                                  company_public_response  \\\n",
       "317627                                                NaN   \n",
       "399121                                                NaN   \n",
       "505916                                                NaN   \n",
       "538320  Company has responded to the consumer and the ...   \n",
       "390186                                                NaN   \n",
       "\n",
       "                                       company state zipcode            tags  \\\n",
       "317627          Citizens Financial Group, Inc.    NH   030XX  Older American   \n",
       "399121                                    Amex    NY   10580             NaN   \n",
       "505916                Weltman, Weinberg & Reis    OH   441XX             NaN   \n",
       "538320  TransUnion Intermediate Holdings, Inc.    CA   90036             NaN   \n",
       "390186           Credit Acceptance Corporation    CA   92553             NaN   \n",
       "\n",
       "       consumer_consent_provided submitted_via date_sent_to_company  \\\n",
       "317627          Consent provided           Web           11/10/2015   \n",
       "399121                       NaN           Web           12/06/2011   \n",
       "505916          Consent provided           Web           02/02/2016   \n",
       "538320      Consent not provided           Web           04/11/2016   \n",
       "390186                       NaN         Phone           08/28/2013   \n",
       "\n",
       "       company_response_to_consumer  timely_response  consumer_disputed  \\\n",
       "317627      Closed with explanation                1                  0   \n",
       "399121           Closed with relief                1                  0   \n",
       "505916      Closed with explanation                1                  0   \n",
       "538320      Closed with explanation                1                  1   \n",
       "390186      Closed with explanation                1                  0   \n",
       "\n",
       "        complaint_id  \n",
       "317627       1644032  \n",
       "399121          2801  \n",
       "505916       1769306  \n",
       "538320       1872829  \n",
       "390186        508109  "
      ]
     },
     "execution_count": 9,
     "metadata": {},
     "output_type": "execute_result"
    }
   ],
   "source": [
    "df = pd.read_csv('consumer_complaints.csv')\n",
    "df, _ = train_test_split(df, train_size=26000, random_state=42)\n",
    "df.rename(columns={'consumer_disputed?':\"consumer_disputed\"}, inplace=True)\n",
    "df.replace({\"Yes\":1, \"No\":0}, inplace=True)\n",
    "df.head()"
   ]
  },
  {
   "cell_type": "code",
   "execution_count": 10,
   "id": "1f07d8b0",
   "metadata": {},
   "outputs": [
    {
     "name": "stdout",
     "output_type": "stream",
     "text": [
      "consumer_disputed\n",
      "0                    5158\n",
      "1                    5158\n",
      "Name: count, dtype: int64\n"
     ]
    }
   ],
   "source": [
    "X = df[\"issue\"]\n",
    "y = df[\"consumer_disputed\"]\n",
    "X = X.to_frame()\n",
    "y = y.to_frame()\n",
    "\n",
    "# Randomly undersample target class to balance out the values\n",
    "undersampler = RandomUnderSampler(random_state=42)\n",
    "X_resampled, y_resampled = undersampler.fit_resample(X, y)\n",
    "\n",
    "print(y_resampled.value_counts())  # Print out value distribution"
   ]
  },
  {
   "cell_type": "code",
   "execution_count": null,
   "id": "47a4dd44",
   "metadata": {},
   "outputs": [],
   "source": [
    "def preprocessing(text:str):\n",
    "    text = text.lower()  # Lowercase the text\n",
    "    text = re.sub(r\"[^\\w\\s]\", \"\", text)  # Remove punctuation\n",
    "    text = re.sub(r\"[\\s+]\", \" \", text)  # Replace multiple spaces with one space\n",
    "    \n",
    "    # Vectorize the text\n",
    "    nlp = spacy.load('en_core_web_lg')\n",
    "    doc = nlp(text)\n",
    "    return np.array([token.vector for token in doc if token.has_vector])  # Return the vectorized tokens\n",
    "    \n",
    "X_resampled = X_resampled[\"issue\"].apply(preprocessing)"
   ]
  },
  {
   "cell_type": "code",
   "execution_count": 12,
   "id": "bd35411e",
   "metadata": {},
   "outputs": [],
   "source": [
    "# X = pd.read_csv(\"X.csv\")\n",
    "# y = pd.read_csv(\"y.csv\")\n",
    "\n",
    "# X = X[\"issue\"].apply(preprocessing)"
   ]
  },
  {
   "cell_type": "code",
   "execution_count": 14,
   "id": "18f9c49d",
   "metadata": {},
   "outputs": [],
   "source": [
    "X_train, X_test, y_train, y_test = train_test_split(X_resampled, y_resampled, train_size=0.75, test_size=0.25, stratify=y_resampled, shuffle=True, random_state=42)\n",
    "\n",
    "X_train = np.stack(X_train)\n",
    "X_test = np.stack(X_test)"
   ]
  },
  {
   "cell_type": "code",
   "execution_count": 16,
   "id": "bf07d64b",
   "metadata": {},
   "outputs": [
    {
     "data": {
      "text/plain": [
       "(7737, 300)"
      ]
     },
     "execution_count": 16,
     "metadata": {},
     "output_type": "execute_result"
    }
   ],
   "source": [
    "X_train.shape"
   ]
  },
  {
   "cell_type": "code",
   "execution_count": null,
   "id": "47632881",
   "metadata": {},
   "outputs": [
    {
     "name": "stdout",
     "output_type": "stream",
     "text": [
      "Epoch 1/15\n"
     ]
    },
    {
     "ename": "ValueError",
     "evalue": "Input 0 of layer \"bidirectional_9\" is incompatible with the layer: expected ndim=3, found ndim=2. Full shape received: (None, 252)",
     "output_type": "error",
     "traceback": [
      "\u001b[1;31m---------------------------------------------------------------------------\u001b[0m",
      "\u001b[1;31mValueError\u001b[0m                                Traceback (most recent call last)",
      "Cell \u001b[1;32mIn[22], line 16\u001b[0m\n\u001b[0;32m      1\u001b[0m model \u001b[38;5;241m=\u001b[39m Sequential([\n\u001b[0;32m      2\u001b[0m     Embedding(input_dim\u001b[38;5;241m=\u001b[39m\u001b[38;5;241m10000\u001b[39m, output_dim\u001b[38;5;241m=\u001b[39m\u001b[38;5;241m128\u001b[39m, input_length\u001b[38;5;241m=\u001b[39m\u001b[38;5;28;01mNone\u001b[39;00m),\n\u001b[0;32m      3\u001b[0m     Bidirectional(LSTM(\u001b[38;5;241m126\u001b[39m)),\n\u001b[1;32m   (...)\u001b[0m\n\u001b[0;32m      9\u001b[0m     Dense(\u001b[38;5;241m1\u001b[39m, activation\u001b[38;5;241m=\u001b[39m\u001b[38;5;124m\"\u001b[39m\u001b[38;5;124msoftmax\u001b[39m\u001b[38;5;124m\"\u001b[39m)\n\u001b[0;32m     10\u001b[0m ])\n\u001b[0;32m     11\u001b[0m model\u001b[38;5;241m.\u001b[39mcompile(\n\u001b[0;32m     12\u001b[0m     optimizer\u001b[38;5;241m=\u001b[39m\u001b[38;5;124m\"\u001b[39m\u001b[38;5;124madam\u001b[39m\u001b[38;5;124m\"\u001b[39m,\n\u001b[0;32m     13\u001b[0m     loss\u001b[38;5;241m=\u001b[39m\u001b[38;5;124m\"\u001b[39m\u001b[38;5;124mbinary_crossentropy\u001b[39m\u001b[38;5;124m\"\u001b[39m,\n\u001b[0;32m     14\u001b[0m     metrics\u001b[38;5;241m=\u001b[39m[\u001b[38;5;124m\"\u001b[39m\u001b[38;5;124maccuracy\u001b[39m\u001b[38;5;124m\"\u001b[39m]\n\u001b[0;32m     15\u001b[0m )\n\u001b[1;32m---> 16\u001b[0m \u001b[43mmodel\u001b[49m\u001b[38;5;241;43m.\u001b[39;49m\u001b[43mfit\u001b[49m\u001b[43m(\u001b[49m\u001b[43mX_train\u001b[49m\u001b[43m,\u001b[49m\u001b[43m \u001b[49m\u001b[43my_train\u001b[49m\u001b[43m,\u001b[49m\u001b[43m \u001b[49m\u001b[43mepochs\u001b[49m\u001b[38;5;241;43m=\u001b[39;49m\u001b[38;5;241;43m15\u001b[39;49m\u001b[43m,\u001b[49m\u001b[43m \u001b[49m\u001b[43mvalidation_split\u001b[49m\u001b[38;5;241;43m=\u001b[39;49m\u001b[38;5;241;43m0.1\u001b[39;49m\u001b[43m,\u001b[49m\u001b[43m \u001b[49m\u001b[43mverbose\u001b[49m\u001b[38;5;241;43m=\u001b[39;49m\u001b[38;5;241;43m1\u001b[39;49m\u001b[43m)\u001b[49m\n\u001b[0;32m     18\u001b[0m X_test \u001b[38;5;241m=\u001b[39m np\u001b[38;5;241m.\u001b[39marray(X_test)\n\u001b[0;32m     19\u001b[0m y_test \u001b[38;5;241m=\u001b[39m np\u001b[38;5;241m.\u001b[39marray(y_test)\n",
      "File \u001b[1;32m~\\AppData\\Roaming\\Python\\Python312\\site-packages\\keras\\src\\utils\\traceback_utils.py:122\u001b[0m, in \u001b[0;36mfilter_traceback.<locals>.error_handler\u001b[1;34m(*args, **kwargs)\u001b[0m\n\u001b[0;32m    119\u001b[0m     filtered_tb \u001b[38;5;241m=\u001b[39m _process_traceback_frames(e\u001b[38;5;241m.\u001b[39m__traceback__)\n\u001b[0;32m    120\u001b[0m     \u001b[38;5;66;03m# To get the full stack trace, call:\u001b[39;00m\n\u001b[0;32m    121\u001b[0m     \u001b[38;5;66;03m# `keras.config.disable_traceback_filtering()`\u001b[39;00m\n\u001b[1;32m--> 122\u001b[0m     \u001b[38;5;28;01mraise\u001b[39;00m e\u001b[38;5;241m.\u001b[39mwith_traceback(filtered_tb) \u001b[38;5;28;01mfrom\u001b[39;00m \u001b[38;5;28;01mNone\u001b[39;00m\n\u001b[0;32m    123\u001b[0m \u001b[38;5;28;01mfinally\u001b[39;00m:\n\u001b[0;32m    124\u001b[0m     \u001b[38;5;28;01mdel\u001b[39;00m filtered_tb\n",
      "File \u001b[1;32m~\\AppData\\Roaming\\Python\\Python312\\site-packages\\keras\\src\\layers\\input_spec.py:186\u001b[0m, in \u001b[0;36massert_input_compatibility\u001b[1;34m(input_spec, inputs, layer_name)\u001b[0m\n\u001b[0;32m    184\u001b[0m \u001b[38;5;28;01mif\u001b[39;00m spec\u001b[38;5;241m.\u001b[39mndim \u001b[38;5;129;01mis\u001b[39;00m \u001b[38;5;129;01mnot\u001b[39;00m \u001b[38;5;28;01mNone\u001b[39;00m \u001b[38;5;129;01mand\u001b[39;00m \u001b[38;5;129;01mnot\u001b[39;00m spec\u001b[38;5;241m.\u001b[39mallow_last_axis_squeeze:\n\u001b[0;32m    185\u001b[0m     \u001b[38;5;28;01mif\u001b[39;00m ndim \u001b[38;5;241m!=\u001b[39m spec\u001b[38;5;241m.\u001b[39mndim:\n\u001b[1;32m--> 186\u001b[0m         \u001b[38;5;28;01mraise\u001b[39;00m \u001b[38;5;167;01mValueError\u001b[39;00m(\n\u001b[0;32m    187\u001b[0m             \u001b[38;5;124mf\u001b[39m\u001b[38;5;124m'\u001b[39m\u001b[38;5;124mInput \u001b[39m\u001b[38;5;132;01m{\u001b[39;00minput_index\u001b[38;5;132;01m}\u001b[39;00m\u001b[38;5;124m of layer \u001b[39m\u001b[38;5;124m\"\u001b[39m\u001b[38;5;132;01m{\u001b[39;00mlayer_name\u001b[38;5;132;01m}\u001b[39;00m\u001b[38;5;124m\"\u001b[39m\u001b[38;5;124m \u001b[39m\u001b[38;5;124m'\u001b[39m\n\u001b[0;32m    188\u001b[0m             \u001b[38;5;124m\"\u001b[39m\u001b[38;5;124mis incompatible with the layer: \u001b[39m\u001b[38;5;124m\"\u001b[39m\n\u001b[0;32m    189\u001b[0m             \u001b[38;5;124mf\u001b[39m\u001b[38;5;124m\"\u001b[39m\u001b[38;5;124mexpected ndim=\u001b[39m\u001b[38;5;132;01m{\u001b[39;00mspec\u001b[38;5;241m.\u001b[39mndim\u001b[38;5;132;01m}\u001b[39;00m\u001b[38;5;124m, found ndim=\u001b[39m\u001b[38;5;132;01m{\u001b[39;00mndim\u001b[38;5;132;01m}\u001b[39;00m\u001b[38;5;124m. \u001b[39m\u001b[38;5;124m\"\u001b[39m\n\u001b[0;32m    190\u001b[0m             \u001b[38;5;124mf\u001b[39m\u001b[38;5;124m\"\u001b[39m\u001b[38;5;124mFull shape received: \u001b[39m\u001b[38;5;132;01m{\u001b[39;00mshape\u001b[38;5;132;01m}\u001b[39;00m\u001b[38;5;124m\"\u001b[39m\n\u001b[0;32m    191\u001b[0m         )\n\u001b[0;32m    192\u001b[0m \u001b[38;5;28;01mif\u001b[39;00m spec\u001b[38;5;241m.\u001b[39mmax_ndim \u001b[38;5;129;01mis\u001b[39;00m \u001b[38;5;129;01mnot\u001b[39;00m \u001b[38;5;28;01mNone\u001b[39;00m:\n\u001b[0;32m    193\u001b[0m     \u001b[38;5;28;01mif\u001b[39;00m ndim \u001b[38;5;129;01mis\u001b[39;00m \u001b[38;5;129;01mnot\u001b[39;00m \u001b[38;5;28;01mNone\u001b[39;00m \u001b[38;5;129;01mand\u001b[39;00m ndim \u001b[38;5;241m>\u001b[39m spec\u001b[38;5;241m.\u001b[39mmax_ndim:\n",
      "\u001b[1;31mValueError\u001b[0m: Input 0 of layer \"bidirectional_9\" is incompatible with the layer: expected ndim=3, found ndim=2. Full shape received: (None, 252)"
     ]
    }
   ],
   "source": [
    "model = Sequential([\n",
    "    Embedding(input_dim=10000, output_dim=128, input_length=100),\n",
    "    Bidirectional(LSTM(126)),\n",
    "    Dropout(0.3),\n",
    "    Bidirectional(LSTM(64)),\n",
    "    Bidirectional(LSTM(32)),\n",
    "    Dropout(0.3),\n",
    "    Bidirectional(LSTM(16)),\n",
    "    Dense(1, activation=\"softmax\")\n",
    "])\n",
    "model.compile(\n",
    "    optimizer=\"adam\",\n",
    "    loss=\"binary_crossentropy\",\n",
    "    metrics=[\"accuracy\"]\n",
    ")\n",
    "model.fit(X_train, y_train, epochs=15, validation_split=0.1, verbose=1)\n",
    "\n",
    "X_test = np.array(X_test)\n",
    "y_test = np.array(y_test)\n",
    "\n",
    "test_loss, test_accuracy = model.evaluate(X_test, y_test)\n",
    "print(f\"Test Accuracy: {test_accuracy}\")\n",
    "print(f\"Test Loss: {test_loss}\")"
   ]
  },
  {
   "cell_type": "code",
   "execution_count": 20,
   "id": "908db72c",
   "metadata": {},
   "outputs": [
    {
     "name": "stdout",
     "output_type": "stream",
     "text": [
      "Epoch 1/15\n",
      "\u001b[1m206/206\u001b[0m \u001b[32m━━━━━━━━━━━━━━━━━━━━\u001b[0m\u001b[37m\u001b[0m \u001b[1m2s\u001b[0m 2ms/step - accuracy: 0.4971 - loss: 0.6957 - val_accuracy: 0.5228 - val_loss: 0.6936\n",
      "Epoch 2/15\n",
      "\u001b[1m206/206\u001b[0m \u001b[32m━━━━━━━━━━━━━━━━━━━━\u001b[0m\u001b[37m\u001b[0m \u001b[1m0s\u001b[0m 2ms/step - accuracy: 0.4971 - loss: 0.6931 - val_accuracy: 0.5228 - val_loss: 0.6935\n",
      "Epoch 3/15\n",
      "\u001b[1m206/206\u001b[0m \u001b[32m━━━━━━━━━━━━━━━━━━━━\u001b[0m\u001b[37m\u001b[0m \u001b[1m0s\u001b[0m 2ms/step - accuracy: 0.4971 - loss: 0.6924 - val_accuracy: 0.5228 - val_loss: 0.6921\n",
      "Epoch 4/15\n",
      "\u001b[1m206/206\u001b[0m \u001b[32m━━━━━━━━━━━━━━━━━━━━\u001b[0m\u001b[37m\u001b[0m \u001b[1m0s\u001b[0m 1ms/step - accuracy: 0.4971 - loss: 0.6909 - val_accuracy: 0.5228 - val_loss: 0.6909\n",
      "Epoch 5/15\n",
      "\u001b[1m206/206\u001b[0m \u001b[32m━━━━━━━━━━━━━━━━━━━━\u001b[0m\u001b[37m\u001b[0m \u001b[1m0s\u001b[0m 2ms/step - accuracy: 0.4971 - loss: 0.6893 - val_accuracy: 0.5228 - val_loss: 0.6889\n",
      "Epoch 6/15\n",
      "\u001b[1m206/206\u001b[0m \u001b[32m━━━━━━━━━━━━━━━━━━━━\u001b[0m\u001b[37m\u001b[0m \u001b[1m0s\u001b[0m 2ms/step - accuracy: 0.4971 - loss: 0.6878 - val_accuracy: 0.5228 - val_loss: 0.6899\n",
      "Epoch 7/15\n",
      "\u001b[1m206/206\u001b[0m \u001b[32m━━━━━━━━━━━━━━━━━━━━\u001b[0m\u001b[37m\u001b[0m \u001b[1m0s\u001b[0m 2ms/step - accuracy: 0.4971 - loss: 0.6875 - val_accuracy: 0.5228 - val_loss: 0.6915\n",
      "Epoch 8/15\n",
      "\u001b[1m206/206\u001b[0m \u001b[32m━━━━━━━━━━━━━━━━━━━━\u001b[0m\u001b[37m\u001b[0m \u001b[1m0s\u001b[0m 2ms/step - accuracy: 0.4971 - loss: 0.6885 - val_accuracy: 0.5228 - val_loss: 0.6908\n",
      "Epoch 9/15\n",
      "\u001b[1m206/206\u001b[0m \u001b[32m━━━━━━━━━━━━━━━━━━━━\u001b[0m\u001b[37m\u001b[0m \u001b[1m0s\u001b[0m 1ms/step - accuracy: 0.4971 - loss: 0.6869 - val_accuracy: 0.5228 - val_loss: 0.6902\n",
      "Epoch 10/15\n",
      "\u001b[1m206/206\u001b[0m \u001b[32m━━━━━━━━━━━━━━━━━━━━\u001b[0m\u001b[37m\u001b[0m \u001b[1m0s\u001b[0m 2ms/step - accuracy: 0.4971 - loss: 0.6862 - val_accuracy: 0.5228 - val_loss: 0.6902\n",
      "Epoch 11/15\n",
      "\u001b[1m206/206\u001b[0m \u001b[32m━━━━━━━━━━━━━━━━━━━━\u001b[0m\u001b[37m\u001b[0m \u001b[1m0s\u001b[0m 1ms/step - accuracy: 0.4971 - loss: 0.6863 - val_accuracy: 0.5228 - val_loss: 0.6916\n",
      "Epoch 12/15\n",
      "\u001b[1m206/206\u001b[0m \u001b[32m━━━━━━━━━━━━━━━━━━━━\u001b[0m\u001b[37m\u001b[0m \u001b[1m0s\u001b[0m 2ms/step - accuracy: 0.4971 - loss: 0.6859 - val_accuracy: 0.5228 - val_loss: 0.6903\n",
      "Epoch 13/15\n",
      "\u001b[1m206/206\u001b[0m \u001b[32m━━━━━━━━━━━━━━━━━━━━\u001b[0m\u001b[37m\u001b[0m \u001b[1m0s\u001b[0m 1ms/step - accuracy: 0.4971 - loss: 0.6845 - val_accuracy: 0.5228 - val_loss: 0.6939\n",
      "Epoch 14/15\n",
      "\u001b[1m206/206\u001b[0m \u001b[32m━━━━━━━━━━━━━━━━━━━━\u001b[0m\u001b[37m\u001b[0m \u001b[1m0s\u001b[0m 2ms/step - accuracy: 0.4971 - loss: 0.6845 - val_accuracy: 0.5228 - val_loss: 0.6920\n",
      "Epoch 15/15\n",
      "\u001b[1m206/206\u001b[0m \u001b[32m━━━━━━━━━━━━━━━━━━━━\u001b[0m\u001b[37m\u001b[0m \u001b[1m0s\u001b[0m 2ms/step - accuracy: 0.4971 - loss: 0.6851 - val_accuracy: 0.5228 - val_loss: 0.6929\n",
      "\u001b[1m81/81\u001b[0m \u001b[32m━━━━━━━━━━━━━━━━━━━━\u001b[0m\u001b[37m\u001b[0m \u001b[1m0s\u001b[0m 843us/step - accuracy: 0.5024 - loss: 0.6919\n",
      "Test Accuracy: 0.49980613589286804\n",
      "Test Loss: 0.6920243501663208\n"
     ]
    }
   ],
   "source": [
    "model = Sequential([\n",
    "    Input(shape=(300,)),\n",
    "    Dense(128, activation=\"sigmoid\"),\n",
    "    Dense(64, activation=\"sigmoid\"),\n",
    "    Dropout(0.3),\n",
    "    Dense(32, activation=\"sigmoid\"),\n",
    "    Dense(16, activation=\"sigmoid\"),\n",
    "    Dropout(0.3),\n",
    "    Dense(8, activation=\"sigmoid\"),\n",
    "    Dense(4, activation=\"sigmoid\"),\n",
    "    Dense(1, activation=\"softmax\")\n",
    "])\n",
    "model.compile(\n",
    "    optimizer=\"adam\",\n",
    "    loss=\"binary_crossentropy\",\n",
    "    metrics=[\"accuracy\"]\n",
    ")\n",
    "model.fit(X_train, y_train, epochs=15, validation_split=0.15, verbose=1)\n",
    "\n",
    "X_test = np.array(X_test)\n",
    "y_test = np.array(y_test)\n",
    "\n",
    "test_loss, test_accuracy = model.evaluate(X_test, y_test)\n",
    "print(f\"Test Accuracy: {test_accuracy}\")\n",
    "print(f\"Test Loss: {test_loss}\")"
   ]
  },
  {
   "cell_type": "code",
   "execution_count": null,
   "id": "e66cd960",
   "metadata": {},
   "outputs": [
    {
     "name": "stderr",
     "output_type": "stream",
     "text": [
      "No model was supplied, defaulted to sshleifer/distilbart-cnn-12-6 and revision a4f8f3e (https://huggingface.co/sshleifer/distilbart-cnn-12-6).\n",
      "Using a pipeline without specifying a model name and revision in production is not recommended.\n"
     ]
    },
    {
     "data": {
      "text/plain": [
       "['../disputes/models/summarization_model.pkl']"
      ]
     },
     "execution_count": 28,
     "metadata": {},
     "output_type": "execute_result"
    }
   ],
   "source": [
    "# summarization_model = pipeline('summarization')  # Create Summarization model\n",
    "\n",
    "# # Save models\n",
    "# X.to_csv(\"X.csv\", index=False)\n",
    "# y.to_csv(\"y.csv\", index=False)\n",
    "# joblib.dump(model, \"../disputes/models/model.pkl\")\n",
    "# joblib.dump(summarization_model, \"../disputes/models/summarization_model.pkl\")"
   ]
  }
 ],
 "metadata": {
  "kernelspec": {
   "display_name": "Python 3",
   "language": "python",
   "name": "python3"
  },
  "language_info": {
   "codemirror_mode": {
    "name": "ipython",
    "version": 3
   },
   "file_extension": ".py",
   "mimetype": "text/x-python",
   "name": "python",
   "nbconvert_exporter": "python",
   "pygments_lexer": "ipython3",
   "version": "3.12.2"
  }
 },
 "nbformat": 4,
 "nbformat_minor": 5
}
